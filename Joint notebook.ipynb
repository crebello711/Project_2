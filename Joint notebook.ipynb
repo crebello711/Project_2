{
 "cells": [
  {
   "cell_type": "code",
   "execution_count": null,
   "id": "5bd3543c",
   "metadata": {},
   "outputs": [],
   "source": [
    "# Dependencies\n",
    "import json\n",
    "import matplotlib.pyplot as plt\n",
    "import requests\n",
    "from pprint import pprint\n",
    "from scipy import stats\n",
    "import pandas as pd\n",
    "from sodapy import Socrata"
   ]
  },
  {
   "cell_type": "code",
   "execution_count": null,
   "id": "30342331",
   "metadata": {},
   "outputs": [],
   "source": [
    "# Specify URL\n",
    "client = Socrata(\"data.cdc.gov\", None)\n",
    "\n",
    "# Make & store response\n",
    "response = client.get(\"n8mc-b4w4\", limit=10)"
   ]
  },
  {
   "cell_type": "code",
   "execution_count": null,
   "id": "9b02d099",
   "metadata": {},
   "outputs": [],
   "source": [
    "# Make DataFrame\n",
    "response_df = pd.DataFrame.from_records(response)\n",
    "response_df.head(5)"
   ]
  },
  {
   "cell_type": "code",
   "execution_count": null,
   "id": "b67a925d",
   "metadata": {},
   "outputs": [],
   "source": [
    "# Create variable\n",
    "case_count_by_state = response_df[\"res_state\"].groupby(response_df[\"res_state\"]).count()"
   ]
  },
  {
   "cell_type": "code",
   "execution_count": null,
   "id": "e8615288",
   "metadata": {},
   "outputs": [],
   "source": [
    "# Sanity check\n",
    "total_cases = case_count_by_state.sum()\n",
    "total_cases"
   ]
  },
  {
   "cell_type": "code",
   "execution_count": null,
   "id": "82e12001",
   "metadata": {},
   "outputs": [],
   "source": [
    "# Total unique states\n",
    "total_states = case_count_by_state.nunique()\n",
    "total_states"
   ]
  },
  {
   "cell_type": "code",
   "execution_count": null,
   "id": "1127aba1",
   "metadata": {},
   "outputs": [],
   "source": [
    "# Create Df showing cases in each state\n",
    "case_count_by_state_df = pd.DataFrame({\n",
    "    \"Case Count\": case_count_by_state    \n",
    "})\n",
    "case_count_by_state_df"
   ]
  },
  {
   "cell_type": "code",
   "execution_count": null,
   "id": "01e61c81",
   "metadata": {},
   "outputs": [],
   "source": [
    "# Create variable to hold cases by month per state\n",
    "cases_count_by_state_month = response_df[[\"res_state\",\"case_month\"]].value_counts().sort_index()\n",
    "cases_count_by_state_month"
   ]
  },
  {
   "cell_type": "code",
   "execution_count": null,
   "id": "bc068971",
   "metadata": {},
   "outputs": [],
   "source": [
    "# Create Df showing cases in each state by month\n",
    "cases_count_by_state_month_df = pd.DataFrame({\n",
    "    \"Cases by month\": cases_count_by_state_month\n",
    "})\n",
    "cases_count_by_state_month_df.head(5)"
   ]
  },
  {
   "cell_type": "code",
   "execution_count": null,
   "id": "d10b469e",
   "metadata": {},
   "outputs": [],
   "source": []
  }
 ],
 "metadata": {
  "kernelspec": {
   "display_name": "Python 3 (ipykernel)",
   "language": "python",
   "name": "python3"
  },
  "language_info": {
   "codemirror_mode": {
    "name": "ipython",
    "version": 3
   },
   "file_extension": ".py",
   "mimetype": "text/x-python",
   "name": "python",
   "nbconvert_exporter": "python",
   "pygments_lexer": "ipython3",
   "version": "3.9.12"
  }
 },
 "nbformat": 4,
 "nbformat_minor": 5
}
